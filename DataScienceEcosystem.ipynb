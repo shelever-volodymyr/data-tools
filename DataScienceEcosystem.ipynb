{
 "cells": [
  {
   "cell_type": "markdown",
   "id": "00984498-d582-4669-a8e5-9ba3a935d5ba",
   "metadata": {},
   "source": [
    "# Data Science Tools and Ecosystem"
   ]
  },
  {
   "cell_type": "markdown",
   "id": "34475a71-b7c1-4a63-a5b5-d8f737b2df79",
   "metadata": {},
   "source": [
    "In this notebook, Data Science Tools and Ecosystem are summarized."
   ]
  },
  {
   "cell_type": "markdown",
   "id": "c53c95bd-8a13-42c5-9068-799c2fbd3736",
   "metadata": {},
   "source": [
    "**Objectives:**"
   ]
  },
  {
   "cell_type": "markdown",
   "id": "6e0157f4-e6b7-4646-8d9b-682c8eca931a",
   "metadata": {},
   "source": [
    "- Review of popular langugates used in data science\n",
    "- Review of open source tools used in data science\n",
    "- Introduction to models\n",
    "- Working with Jupyter Notebook"
   ]
  },
  {
   "cell_type": "markdown",
   "id": "e1c3182d-e565-40c9-b539-9ba26d3c5e1d",
   "metadata": {},
   "source": [
    "Some of the popular languages that Data Scientists use are:\n",
    "1. Python\n",
    "2. R\n",
    "3. SQL\n",
    "4. Scala\n",
    "5. Julia"
   ]
  },
  {
   "cell_type": "markdown",
   "id": "4fd2f0c2-77af-4907-af76-121c689e2619",
   "metadata": {},
   "source": [
    "Some of the commonly used libraries used by Data Scientists include:\n",
    "1. TensorFlow\n",
    "2. NumPy\n",
    "3. Pandas"
   ]
  },
  {
   "cell_type": "markdown",
   "id": "c25ed07c-5ca0-4f71-b4e3-dfb580aee5dc",
   "metadata": {},
   "source": [
    "|Data Science Tools|\n",
    "|--------------------|\n",
    "|Hadoop|\n",
    "|Spark|\n",
    "|TensorFlow.js|"
   ]
  },
  {
   "cell_type": "markdown",
   "id": "031b3478-f260-4828-8f48-f8a625d2ae37",
   "metadata": {},
   "source": [
    "### Below are a few examples of evaluating arithmetic expressions in Python"
   ]
  },
  {
   "cell_type": "markdown",
   "id": "33a6d8b1-a2e9-4b40-b29c-a0cb1029fdea",
   "metadata": {},
   "source": [
    "This a simple arithmetic expression to mutiply then add integers"
   ]
  },
  {
   "cell_type": "code",
   "execution_count": 3,
   "id": "7ca3d4b9-8cc1-4d5d-9695-06c701e9c558",
   "metadata": {},
   "outputs": [
    {
     "data": {
      "text/plain": [
       "17"
      ]
     },
     "execution_count": 3,
     "metadata": {},
     "output_type": "execute_result"
    }
   ],
   "source": [
    "(3*4)+5"
   ]
  },
  {
   "cell_type": "markdown",
   "id": "59411927-43db-4427-ba8e-7d9dfb2905c6",
   "metadata": {},
   "source": [
    "This will convert 200 minutes to hours by diving by 60"
   ]
  },
  {
   "cell_type": "code",
   "execution_count": 6,
   "id": "7429d4aa-6c1f-4f2e-8dc1-c073e1dbb8d2",
   "metadata": {},
   "outputs": [
    {
     "name": "stdout",
     "output_type": "stream",
     "text": [
      "3.3333333333333335\n"
     ]
    }
   ],
   "source": [
    "minutes = 200\n",
    "minutes_per_hour = 60\n",
    "hours = minutes/minutes_per_hour\n",
    "print(hours)"
   ]
  },
  {
   "cell_type": "markdown",
   "id": "3e522b9b-c573-4fe2-ba54-d6e6b2da3f31",
   "metadata": {},
   "source": [
    "## Author\n",
    "Volodymyr Shelever"
   ]
  },
  {
   "cell_type": "code",
   "execution_count": null,
   "id": "e78e1f13-4878-457a-9878-e9f759ac2e58",
   "metadata": {},
   "outputs": [],
   "source": []
  }
 ],
 "metadata": {
  "kernelspec": {
   "display_name": "Python 3 (ipykernel)",
   "language": "python",
   "name": "python3"
  },
  "language_info": {
   "codemirror_mode": {
    "name": "ipython",
    "version": 3
   },
   "file_extension": ".py",
   "mimetype": "text/x-python",
   "name": "python",
   "nbconvert_exporter": "python",
   "pygments_lexer": "ipython3",
   "version": "3.11.9"
  }
 },
 "nbformat": 4,
 "nbformat_minor": 5
}
